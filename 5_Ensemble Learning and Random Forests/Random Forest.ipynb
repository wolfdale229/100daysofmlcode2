{
 "cells": [
  {
   "cell_type": "markdown",
   "metadata": {},
   "source": [
    "# Random Forest"
   ]
  },
  {
   "cell_type": "code",
   "execution_count": 1,
   "metadata": {},
   "outputs": [],
   "source": [
    "%reload_ext autoreload\n",
    "%autoreload 2\n",
    "%matplotlib inline"
   ]
  },
  {
   "cell_type": "markdown",
   "metadata": {
    "heading_collapsed": true
   },
   "source": [
    "## Imports"
   ]
  },
  {
   "cell_type": "code",
   "execution_count": 46,
   "metadata": {
    "hidden": true
   },
   "outputs": [],
   "source": [
    "import numpy as np \n",
    "import pandas as pd\n",
    "import seaborn as sns\n",
    "import matplotlib.pyplot as plt\n",
    "\n",
    "from sklearn.svm import SVC\n",
    "from sklearn.datasets import make_moons, load_iris\n",
    "from sklearn.metrics import accuracy_score\n",
    "from sklearn.model_selection import train_test_split, cross_val_score\n",
    "from sklearn.ensemble import ExtraTreesClassifier, RandomForestClassifier, VotingClassifier, BaggingClassifier"
   ]
  },
  {
   "cell_type": "code",
   "execution_count": 3,
   "metadata": {
    "hidden": true
   },
   "outputs": [],
   "source": [
    "X, y = make_moons(1000, noise=0.15)\n",
    "X_train, X_test, y_train, y_test = train_test_split(X, y, test_size=0.2, random_state=42)"
   ]
  },
  {
   "cell_type": "markdown",
   "metadata": {
    "heading_collapsed": true
   },
   "source": [
    "## Models"
   ]
  },
  {
   "cell_type": "code",
   "execution_count": 4,
   "metadata": {
    "hidden": true
   },
   "outputs": [
    {
     "data": {
      "text/plain": [
       "0.975"
      ]
     },
     "execution_count": 4,
     "metadata": {},
     "output_type": "execute_result"
    }
   ],
   "source": [
    "rf_clf = RandomForestClassifier(n_estimators=500, max_leaf_nodes=16).fit(X_train, y_train)\n",
    "y_pred = rf_clf.predict(X_test)\n",
    "accuracy_score(y_test, y_pred)"
   ]
  },
  {
   "cell_type": "code",
   "execution_count": 12,
   "metadata": {
    "hidden": true
   },
   "outputs": [
    {
     "name": "stdout",
     "output_type": "stream",
     "text": [
      "RandomForestClassifier 0.975\n",
      "ExtraTreesClassifier 0.965\n",
      "VotingClassifier 0.965\n"
     ]
    }
   ],
   "source": [
    "# Ensemble of Extra trees and random forest\n",
    "rf_clf, ext_clf = RandomForestClassifier(n_estimators=500, max_leaf_nodes=16),ExtraTreesClassifier(n_estimators=500, max_leaf_nodes=16)\n",
    "\n",
    "voting_clf = VotingClassifier(\n",
    "    estimators=[('rf', rf_clf), ('ext',ext_clf)],\n",
    "    voting='hard'\n",
    ")\n",
    "\n",
    "for clf in (rf_clf, ext_clf, voting_clf):\n",
    "    clf.fit(X_train, y_train)\n",
    "    ypred = clf.predict(X_test)\n",
    "    score = accuracy_score(y_test, ypred)\n",
    "    print(clf.__class__.__name__, score)"
   ]
  },
  {
   "cell_type": "code",
   "execution_count": 14,
   "metadata": {
    "hidden": true
   },
   "outputs": [
    {
     "name": "stdout",
     "output_type": "stream",
     "text": [
      "BaggingClassifier 0.965\n"
     ]
    }
   ],
   "source": [
    "# bagging of random forests\n",
    "bag_clf = BaggingClassifier(base_estimator=rf_clf).fit(X_train, y_train)\n",
    "ypred = bag_clf.predict(X_test)\n",
    "score = accuracy_score(y_test, ypred)\n",
    "print(bag_clf.__class__.__name__, score)"
   ]
  },
  {
   "cell_type": "code",
   "execution_count": 15,
   "metadata": {
    "hidden": true
   },
   "outputs": [
    {
     "name": "stdout",
     "output_type": "stream",
     "text": [
      "BaggingClassifier 0.965\n"
     ]
    }
   ],
   "source": [
    "# bagging of extra trees\n",
    "bag_clf = BaggingClassifier(base_estimator=ext_clf).fit(X_train, y_train)\n",
    "ypred = bag_clf.predict(X_test)\n",
    "score = accuracy_score(y_test, ypred)\n",
    "print(bag_clf.__class__.__name__, score)"
   ]
  },
  {
   "cell_type": "code",
   "execution_count": 27,
   "metadata": {
    "hidden": true
   },
   "outputs": [],
   "source": [
    "# using cross validation \n",
    "\n",
    "rf_score = cross_val_score(rf_clf, X, y, cv=5)\n",
    "ext_score = cross_val_score(ext_clf, X, y, cv=5)"
   ]
  },
  {
   "cell_type": "code",
   "execution_count": 28,
   "metadata": {
    "hidden": true
   },
   "outputs": [
    {
     "name": "stdout",
     "output_type": "stream",
     "text": [
      "random forest : 0.99\n",
      "extra tree : 0.98\n"
     ]
    }
   ],
   "source": [
    "print(f'random forest : {np.mean(rf_score):.2f}')\n",
    "print(f'extra tree : {np.mean(ext_score):.2f}')"
   ]
  },
  {
   "cell_type": "markdown",
   "metadata": {},
   "source": [
    "## Feature Importance"
   ]
  },
  {
   "cell_type": "code",
   "execution_count": 31,
   "metadata": {},
   "outputs": [],
   "source": [
    "iris = load_iris()\n",
    "X, y = iris['data'], iris['target']"
   ]
  },
  {
   "cell_type": "code",
   "execution_count": 117,
   "metadata": {},
   "outputs": [
    {
     "name": "stdout",
     "output_type": "stream",
     "text": [
      "petal length (cm) 0.44432494445894277\n",
      "petal width (cm) 0.4414374033376003\n",
      "sepal length (cm) 0.08979678799422774\n",
      "sepal width (cm) 0.024440864209229158\n"
     ]
    }
   ],
   "source": [
    "rf_clf = RandomForestClassifier(n_estimators=500).fit(X, y)\n",
    "for name, score in sorted(zip(iris['feature_names'], rf_clf.feature_importances_)):\n",
    "    print(name, score)"
   ]
  },
  {
   "cell_type": "code",
   "execution_count": 134,
   "metadata": {},
   "outputs": [
    {
     "data": {
      "image/png": "[encoded data removed]",
      "text/plain": [
       "<Figure size 576x360 with 1 Axes>"
      ]
     },
     "metadata": {
      "needs_background": "light"
     },
     "output_type": "display_data"
    }
   ],
   "source": [
    "# implementing feature importance\n",
    "data = {}\n",
    "for i in range(1, len(iris['feature_names'])):\n",
    "    data['name'] = iris['feature_names']\n",
    "    data['imp'] = rf_clf.feature_importances_\n",
    "    df = pd.DataFrame(data)\n",
    "plt.figure(figsize=(8, 5))\n",
    "sns.barplot(x='imp', y='name',data=df, label='importance')\n",
    "plt.xlabel('Importance', fontsize=15)\n",
    "plt.ylabel('Features', fontsize=15)\n",
    "plt.legend()\n",
    "plt.show()"
   ]
  },
  {
   "cell_type": "code",
   "execution_count": null,
   "metadata": {},
   "outputs": [],
   "source": []
  },
  {
   "cell_type": "code",
   "execution_count": null,
   "metadata": {},
   "outputs": [],
   "source": []
  },
  {
   "cell_type": "code",
   "execution_count": null,
   "metadata": {},
   "outputs": [],
   "source": []
  },
  {
   "cell_type": "code",
   "execution_count": null,
   "metadata": {},
   "outputs": [],
   "source": []
  }
 ],
 "metadata": {
  "kernelspec": {
   "display_name": "Python 3.7.4 64-bit ('base': conda)",
   "language": "python",
   "name": "python37464bitbaseconda02803511e82243628460d84236bfc9e6"
  },
  "language_info": {
   "codemirror_mode": {
    "name": "ipython",
    "version": 3
   },
   "file_extension": ".py",
   "mimetype": "text/x-python",
   "name": "python",
   "nbconvert_exporter": "python",
   "pygments_lexer": "ipython3",
   "version": "3.7.6"
  },
  "toc": {
   "base_numbering": 1,
   "nav_menu": {},
   "number_sections": true,
   "sideBar": true,
   "skip_h1_title": false,
   "title_cell": "Table of Contents",
   "title_sidebar": "Contents",
   "toc_cell": false,
   "toc_position": {},
   "toc_section_display": true,
   "toc_window_display": false
  }
 },
 "nbformat": 4,
 "nbformat_minor": 4
}
