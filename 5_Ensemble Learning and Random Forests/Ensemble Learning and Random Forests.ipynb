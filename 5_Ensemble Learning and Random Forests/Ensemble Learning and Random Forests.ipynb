{
 "cells": [
  {
   "cell_type": "markdown",
   "metadata": {},
   "source": [
    "# Ensemble Learning and Random Forests"
   ]
  },
  {
   "cell_type": "code",
   "execution_count": 1,
   "metadata": {},
   "outputs": [],
   "source": [
    "%reload_ext autoreload\n",
    "%autoreload 2\n",
    "%matplotlib inline"
   ]
  },
  {
   "cell_type": "markdown",
   "metadata": {},
   "source": [
    "##  Imports"
   ]
  },
  {
   "cell_type": "code",
   "execution_count": 166,
   "metadata": {},
   "outputs": [],
   "source": [
    "import numpy as np \n",
    "import pandas as pd\n",
    "import matplotlib.pyplot as plt\n",
    "\n",
    "from sklearn.svm import SVC\n",
    "from sklearn.datasets import make_moons\n",
    "from sklearn.metrics import accuracy_score\n",
    "from sklearn.model_selection import train_test_split, cross_val_score\n",
    "from sklearn.ensemble import VotingClassifier\n",
    "from sklearn.linear_model import LogisticRegression\n",
    "from sklearn.tree import DecisionTreeClassifier\n",
    "from sklearn.ensemble import RandomForestRegressor, RandomForestClassifier, BaggingClassifier\n"
   ]
  },
  {
   "cell_type": "markdown",
   "metadata": {},
   "source": [
    "## Models"
   ]
  },
  {
   "cell_type": "markdown",
   "metadata": {
    "heading_collapsed": true
   },
   "source": [
    "### Voting technique"
   ]
  },
  {
   "cell_type": "code",
   "execution_count": 155,
   "metadata": {
    "hidden": true
   },
   "outputs": [],
   "source": [
    "X, y = make_moons(1000, noise=0.15)\n",
    "X_train, X_test, y_train, y_test = train_test_split(X, y, test_size=0.2, random_state=42)"
   ]
  },
  {
   "cell_type": "code",
   "execution_count": 156,
   "metadata": {
    "code_folding": [],
    "hidden": true
   },
   "outputs": [
    {
     "data": {
      "text/plain": [
       "VotingClassifier(estimators=[('svc',\n",
       "                              SVC(C=1.0, break_ties=False, cache_size=200,\n",
       "                                  class_weight=None, coef0=0.0,\n",
       "                                  decision_function_shape='ovr', degree=3,\n",
       "                                  gamma='scale', kernel='rbf', max_iter=-1,\n",
       "                                  probability=False, random_state=None,\n",
       "                                  shrinking=True, tol=0.001, verbose=False)),\n",
       "                             ('rf',\n",
       "                              RandomForestClassifier(bootstrap=True,\n",
       "                                                     ccp_alpha=0.0,\n",
       "                                                     class_weight=None,\n",
       "                                                     criterion='gi...\n",
       "                                                     random_state=None,\n",
       "                                                     verbose=0,\n",
       "                                                     warm_start=False)),\n",
       "                             ('log',\n",
       "                              LogisticRegression(C=1.0, class_weight=None,\n",
       "                                                 dual=False, fit_intercept=True,\n",
       "                                                 intercept_scaling=1,\n",
       "                                                 l1_ratio=None, max_iter=100,\n",
       "                                                 multi_class='auto',\n",
       "                                                 n_jobs=None, penalty='l2',\n",
       "                                                 random_state=None,\n",
       "                                                 solver='lbfgs', tol=0.0001,\n",
       "                                                 verbose=0,\n",
       "                                                 warm_start=False))],\n",
       "                 flatten_transform=True, n_jobs=None, voting='hard',\n",
       "                 weights=None)"
      ]
     },
     "execution_count": 156,
     "metadata": {},
     "output_type": "execute_result"
    }
   ],
   "source": [
    "svc_clf, rf_clf, log_clf = SVC(), RandomForestClassifier(), LogisticRegression()\n",
    "\n",
    "voting_clf = VotingClassifier(\n",
    "    estimators=[('svc', svc_clf), ('rf', rf_clf), ('log',log_clf)],\n",
    "    voting='hard', \n",
    ")\n",
    "voting_clf.fit(X_train, y_train)"
   ]
  },
  {
   "cell_type": "code",
   "execution_count": 157,
   "metadata": {
    "hidden": true
   },
   "outputs": [
    {
     "name": "stdout",
     "output_type": "stream",
     "text": [
      "SVC 0.995\n",
      "RandomForestClassifier 0.995\n",
      "LogisticRegression 0.9\n",
      "VotingClassifier 0.995\n"
     ]
    }
   ],
   "source": [
    "for clf in (svc_clf, rf_clf, log_clf, voting_clf):\n",
    "    clf.fit(X_train, y_train)\n",
    "    y_pred = clf.predict(X_test)\n",
    "    print(clf.__class__.__name__,  accuracy_score(y_test, y_pred))"
   ]
  },
  {
   "cell_type": "markdown",
   "metadata": {},
   "source": [
    "###  Bagging and Pasting technique"
   ]
  },
  {
   "cell_type": "code",
   "execution_count": 164,
   "metadata": {},
   "outputs": [
    {
     "data": {
      "text/plain": [
       "0.97"
      ]
     },
     "execution_count": 164,
     "metadata": {},
     "output_type": "execute_result"
    }
   ],
   "source": [
    "# Bagging\n",
    "bag_clf = BaggingClassifier(DecisionTreeClassifier(), n_estimators=500,\n",
    "                            max_samples=100, bootstrap=True, n_jobs=3)\n",
    "bag_clf.fit(X_train, y_train)\n",
    "y_pred = bag_clf.predict(X_test)\n",
    "accuracy_score(y_test, y_pred)"
   ]
  },
  {
   "cell_type": "code",
   "execution_count": 175,
   "metadata": {},
   "outputs": [
    {
     "name": "stdout",
     "output_type": "stream",
     "text": [
      "[0.98127341 0.96629213 0.96992481]\n",
      "0.9724967850337455\n",
      "0.006380748236260552\n"
     ]
    }
   ],
   "source": [
    "# Cross validation for bagging\n",
    "score = cross_val_score(bag_clf, X_train, y_train, cv=3)\n",
    "print(score)\n",
    "print(np.mean(score))\n",
    "print(np.std(score))"
   ]
  },
  {
   "cell_type": "code",
   "execution_count": 167,
   "metadata": {},
   "outputs": [
    {
     "data": {
      "text/plain": [
       "0.97"
      ]
     },
     "execution_count": 167,
     "metadata": {},
     "output_type": "execute_result"
    }
   ],
   "source": [
    "# Pasting\n",
    "past_clf = BaggingClassifier(DecisionTreeClassifier(), n_estimators=500,\n",
    "                            max_samples=100, bootstrap=False, n_jobs=3)\n",
    "past_clf.fit(X_train, y_train)\n",
    "y_pred = past_clf.predict(X_test)\n",
    "accuracy_score(y_test, y_pred)"
   ]
  },
  {
   "cell_type": "code",
   "execution_count": 176,
   "metadata": {},
   "outputs": [
    {
     "name": "stdout",
     "output_type": "stream",
     "text": [
      "[0.98127341 0.96254682 0.97368421]\n",
      "0.972501478415139\n",
      "0.007690706563740269\n"
     ]
    }
   ],
   "source": [
    "# Cross validation for pasting\n",
    "score = cross_val_score(past_clf, X_train, y_train, cv=3)\n",
    "print(score)\n",
    "print(np.mean(score))\n",
    "print(np.std(score))"
   ]
  },
  {
   "cell_type": "markdown",
   "metadata": {
    "heading_collapsed": true
   },
   "source": [
    "#### Bagging implementation "
   ]
  },
  {
   "cell_type": "code",
   "execution_count": 345,
   "metadata": {
    "hidden": true
   },
   "outputs": [
    {
     "name": "stdout",
     "output_type": "stream",
     "text": [
      "score 0.975\n",
      "score 0.97\n",
      "score 0.975\n",
      "score 0.975\n",
      "Mean score : 0.97375\n",
      "Score std : 0.0022\n"
     ]
    }
   ],
   "source": [
    "# Trying to implement bagging algorithm\n",
    "np.random.seed(42)\n",
    "sample_size = 100\n",
    "scores = []\n",
    "for _ in range(0,100,25):\n",
    "    rand_set = np.random.permutation(sample_size)\n",
    "    voting_clf.fit(X_train[rand_set], y_train[rand_set])\n",
    "    y_pred = voting_clf.predict(X_test)\n",
    "    score = accuracy_score(y_test, y_pred)\n",
    "    scores.append(score)\n",
    "    print(f'score {score}')\n",
    "\n",
    "\n",
    "print(f'Mean score : {np.mean(scores)}')\n",
    "print(f'Score std : {np.std(scores):.4f}')"
   ]
  },
  {
   "cell_type": "markdown",
   "metadata": {
    "heading_collapsed": true
   },
   "source": [
    "### Out_of_bag score"
   ]
  },
  {
   "cell_type": "code",
   "execution_count": 341,
   "metadata": {
    "hidden": true
   },
   "outputs": [
    {
     "name": "stdout",
     "output_type": "stream",
     "text": [
      "oob_score : 0.975\n",
      "score: 0.97\n"
     ]
    }
   ],
   "source": [
    "bag_clf = BaggingClassifier(DecisionTreeClassifier(), n_estimators=500,\n",
    "                            max_samples=100, bootstrap=True, oob_score=True)\n",
    "bag_clf.fit(X_train, y_train)\n",
    "y_pred = bag_clf.predict(X_test)\n",
    "print(f'oob_score : {bag_clf.oob_score_}')\n",
    "print(f'score: {accuracy_score(y_test, y_pred)}')"
   ]
  },
  {
   "cell_type": "code",
   "execution_count": 179,
   "metadata": {
    "hidden": true
   },
   "outputs": [
    {
     "data": {
      "text/plain": [
       "array([[0.9182243 , 0.0817757 ],\n",
       "       [0.97550111, 0.02449889],\n",
       "       [0.        , 1.        ],\n",
       "       ...,\n",
       "       [1.        , 0.        ],\n",
       "       [0.2639821 , 0.7360179 ],\n",
       "       [0.21428571, 0.78571429]])"
      ]
     },
     "execution_count": 179,
     "metadata": {},
     "output_type": "execute_result"
    }
   ],
   "source": [
    "bag_clf.oob_decision_function_"
   ]
  },
  {
   "cell_type": "markdown",
   "metadata": {
    "hidden": true
   },
   "source": [
    "#### oob implementation"
   ]
  },
  {
   "cell_type": "code",
   "execution_count": 344,
   "metadata": {
    "hidden": true
   },
   "outputs": [
    {
     "name": "stdout",
     "output_type": "stream",
     "text": [
      "score 0.975\n",
      "score 0.975\n",
      "score 0.97\n",
      "score 0.975\n",
      "Mean score : 0.97375\n",
      "Score std : 0.0022\n",
      "================================\n",
      "OOb_score_ : 0.9952\n"
     ]
    }
   ],
   "source": [
    "# Trying to implement Out_of_bag sample score\n",
    "'''\n",
    "What I did here was to use python's set data type to find the intersection between a range of \n",
    "numbers from 1 to 100 that where no in the random_sample set(rand_set). \n",
    "This set of numbers is what is used as the out_of_bag sample.\n",
    "\n",
    "Since the  OOB sample size is about 37% of the total training set. if you run ( X_train_oob.size) you would \n",
    "get 217 from a total of 1000\n",
    "\n",
    "X_train_oob.shape => (217, 2)\n",
    "\n",
    "This oob_score implementation would output a score that is an approximate if oob_score=True\n",
    "\n",
    "Note: voting is set to hard so it won't give out a probability score \n",
    "'''\n",
    "lst = np.arange(100)\n",
    "oob_ =[]\n",
    "np.random.seed(42)\n",
    "sample_size = 100\n",
    "scores = []\n",
    "\n",
    "for _ in range(0,100,25):\n",
    "    rand_set = np.random.permutation(sample_size)\n",
    "    oob_sample = set(lst | rand_set)\n",
    "    \n",
    "    # getting the oob_samples\n",
    "    for instance in oob_sample:\n",
    "        oob_.append(instance)\n",
    "    X_train_oob = X_train[oob_] # gets all the remaining samples that were not used\n",
    "    y_train_oob = y_train[oob_]\n",
    "    \n",
    "    # fits a model on the oob samples and get a prediction \n",
    "    voting_clf.fit(X_train[rand_set], y_train[rand_set])   \n",
    "    y_pred = voting_clf.predict(X_test)\n",
    "    \n",
    "    oob_score = voting_clf.fit(X_train_oob, y_train_oob)\n",
    "    \n",
    "    score = accuracy_score(y_test, y_pred)\n",
    "    scores.append(score)\n",
    "    print(f'score {score}')\n",
    "\n",
    "\n",
    "print(f'Mean score : {np.mean(scores)}')\n",
    "print(f'Score std : {np.std(scores):.4f}')\n",
    "print('================================')\n",
    "print(f'OOb_score_ : {oob_score.score(X_train_oob, y_train_oob):.4f}')"
   ]
  },
  {
   "cell_type": "markdown",
   "metadata": {},
   "source": [
    "# Random Forest"
   ]
  },
  {
   "cell_type": "code",
   "execution_count": null,
   "metadata": {},
   "outputs": [],
   "source": []
  },
  {
   "cell_type": "code",
   "execution_count": null,
   "metadata": {},
   "outputs": [],
   "source": []
  },
  {
   "cell_type": "code",
   "execution_count": null,
   "metadata": {},
   "outputs": [],
   "source": []
  },
  {
   "cell_type": "code",
   "execution_count": null,
   "metadata": {},
   "outputs": [],
   "source": []
  },
  {
   "cell_type": "code",
   "execution_count": null,
   "metadata": {},
   "outputs": [],
   "source": []
  },
  {
   "cell_type": "code",
   "execution_count": null,
   "metadata": {},
   "outputs": [],
   "source": []
  },
  {
   "cell_type": "code",
   "execution_count": null,
   "metadata": {},
   "outputs": [],
   "source": []
  },
  {
   "cell_type": "code",
   "execution_count": null,
   "metadata": {},
   "outputs": [],
   "source": []
  },
  {
   "cell_type": "code",
   "execution_count": null,
   "metadata": {},
   "outputs": [],
   "source": []
  },
  {
   "cell_type": "code",
   "execution_count": null,
   "metadata": {},
   "outputs": [],
   "source": []
  },
  {
   "cell_type": "code",
   "execution_count": null,
   "metadata": {},
   "outputs": [],
   "source": []
  }
 ],
 "metadata": {
  "kernelspec": {
   "display_name": "Python 3.7.4 64-bit ('base': conda)",
   "language": "python",
   "name": "python37464bitbaseconda02803511e82243628460d84236bfc9e6"
  },
  "language_info": {
   "codemirror_mode": {
    "name": "ipython",
    "version": 3
   },
   "file_extension": ".py",
   "mimetype": "text/x-python",
   "name": "python",
   "nbconvert_exporter": "python",
   "pygments_lexer": "ipython3",
   "version": "3.7.6"
  },
  "toc": {
   "base_numbering": 1,
   "nav_menu": {},
   "number_sections": true,
   "sideBar": true,
   "skip_h1_title": false,
   "title_cell": "Table of Contents",
   "title_sidebar": "Contents",
   "toc_cell": false,
   "toc_position": {},
   "toc_section_display": true,
   "toc_window_display": false
  }
 },
 "nbformat": 4,
 "nbformat_minor": 4
}
