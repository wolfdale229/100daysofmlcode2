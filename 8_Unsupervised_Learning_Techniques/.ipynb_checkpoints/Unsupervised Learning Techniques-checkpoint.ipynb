{
 "cells": [
  {
   "cell_type": "markdown",
   "metadata": {},
   "source": [
    "# Unsupervised Learning Techniques"
   ]
  },
  {
   "cell_type": "code",
   "execution_count": 1,
   "metadata": {},
   "outputs": [],
   "source": [
    "%reload_ext autoreload\n",
    "%autoreload 2\n",
    "%matplotlib inline"
   ]
  },
  {
   "cell_type": "code",
   "execution_count": 2,
   "metadata": {},
   "outputs": [],
   "source": [
    "import numpy as np\n",
    "import pandas as pd\n",
    "import seaborn as sns\n",
    "import matplotlib.pyplot as plt\n",
    "\n",
    "from sklearn.cluster import KMeans\n",
    "from sklearn.datasets import make_blobs"
   ]
  },
  {
   "cell_type": "code",
   "execution_count": 3,
   "metadata": {},
   "outputs": [],
   "source": [
    "X, y = make_blobs(random_state=1)"
   ]
  },
  {
   "cell_type": "code",
   "execution_count": 22,
   "metadata": {},
   "outputs": [],
   "source": [
    "k = 5\n",
    "kmean = KMeans(n_clusters=k)\n",
    "y_pred = kmean.fit_predict(X)"
   ]
  },
  {
   "cell_type": "code",
   "execution_count": 23,
   "metadata": {},
   "outputs": [
    {
     "data": {
      "text/plain": [
       "array([1, 4, 0, 0, 2, 2, 2, 4, 3, 1, 4, 0, 2, 3, 2, 2, 2, 1, 0, 0, 2, 0,\n",
       "       2, 1, 4, 2, 2, 1, 1, 2, 3, 1, 2, 1, 4, 2, 4, 0, 4, 2, 2, 4, 1, 0,\n",
       "       4, 2, 3, 1, 3, 1, 4, 2, 2, 2, 3, 2, 0, 0, 3, 1, 0, 2, 2, 4, 0, 2,\n",
       "       3, 2, 1, 4, 0, 4, 2, 3, 3, 4, 2, 2, 1, 0, 3, 0, 0, 2, 1, 1, 3, 1,\n",
       "       0, 3, 2, 1, 3, 0, 4, 2, 2, 3, 2, 1], dtype=int32)"
      ]
     },
     "execution_count": 23,
     "metadata": {},
     "output_type": "execute_result"
    }
   ],
   "source": [
    "y_pred"
   ]
  },
  {
   "cell_type": "code",
   "execution_count": 24,
   "metadata": {},
   "outputs": [
    {
     "data": {
      "text/plain": [
       "array([1, 4, 0, 0, 2, 2, 2, 4, 3, 1, 4, 0, 2, 3, 2, 2, 2, 1, 0, 0, 2, 0,\n",
       "       2, 1, 4, 2, 2, 1, 1, 2, 3, 1, 2, 1, 4, 2, 4, 0, 4, 2, 2, 4, 1, 0,\n",
       "       4, 2, 3, 1, 3, 1, 4, 2, 2, 2, 3, 2, 0, 0, 3, 1, 0, 2, 2, 4, 0, 2,\n",
       "       3, 2, 1, 4, 0, 4, 2, 3, 3, 4, 2, 2, 1, 0, 3, 0, 0, 2, 1, 1, 3, 1,\n",
       "       0, 3, 2, 1, 3, 0, 4, 2, 2, 3, 2, 1], dtype=int32)"
      ]
     },
     "execution_count": 24,
     "metadata": {},
     "output_type": "execute_result"
    }
   ],
   "source": [
    "kmean.labels_"
   ]
  },
  {
   "cell_type": "code",
   "execution_count": 25,
   "metadata": {},
   "outputs": [
    {
     "data": {
      "text/plain": [
       "True"
      ]
     },
     "execution_count": 25,
     "metadata": {},
     "output_type": "execute_result"
    }
   ],
   "source": [
    "y_pred is kmean.labels_"
   ]
  },
  {
   "cell_type": "code",
   "execution_count": 26,
   "metadata": {},
   "outputs": [
    {
     "data": {
      "text/plain": [
       "array([[-10.468699  ,  -3.31041475],\n",
       "       [ -1.33824945,   3.58202335],\n",
       "       [ -6.58196786,  -8.17239339],\n",
       "       [ -1.63933544,   5.29379975],\n",
       "       [ -9.54613654,  -4.51849239]])"
      ]
     },
     "execution_count": 26,
     "metadata": {},
     "output_type": "execute_result"
    }
   ],
   "source": [
    "kmean.cluster_centers_"
   ]
  },
  {
   "cell_type": "code",
   "execution_count": 27,
   "metadata": {},
   "outputs": [
    {
     "data": {
      "text/plain": [
       "array([1, 1, 1, 1], dtype=int32)"
      ]
     },
     "execution_count": 27,
     "metadata": {},
     "output_type": "execute_result"
    }
   ],
   "source": [
    "X_new = np.array([[0, 2], [3, 2], [-3, 3], [-3, 2.5]])\n",
    "kmean.predict(X_new)"
   ]
  },
  {
   "cell_type": "code",
   "execution_count": 28,
   "metadata": {},
   "outputs": [
    {
     "data": {
      "text/plain": [
       "array([[ 0. ,  2. ],\n",
       "       [ 3. ,  2. ],\n",
       "       [-3. ,  3. ],\n",
       "       [-3. ,  2.5]])"
      ]
     },
     "execution_count": 28,
     "metadata": {},
     "output_type": "execute_result"
    }
   ],
   "source": [
    "X_new"
   ]
  },
  {
   "cell_type": "code",
   "execution_count": 40,
   "metadata": {},
   "outputs": [
    {
     "data": {
      "text/plain": [
       "array([[11.73857587,  2.0721268 , 12.11610037,  3.67920338, 11.55938865],\n",
       "       [14.47778842,  4.61770573, 13.97468051,  5.68968805, 14.13846827],\n",
       "       [ 9.77766838,  1.76072885, 11.7325559 ,  2.66700681,  9.96893331],\n",
       "       [ 9.46268378,  1.98297489, 11.25746306,  3.10752717,  9.59745482]])"
      ]
     },
     "execution_count": 40,
     "metadata": {},
     "output_type": "execute_result"
    }
   ],
   "source": [
    "kmean.transform(X_new)"
   ]
  },
  {
   "cell_type": "code",
   "execution_count": null,
   "metadata": {},
   "outputs": [],
   "source": []
  }
 ],
 "metadata": {
  "kernelspec": {
   "display_name": "Python 3.7.4 64-bit ('base': conda)",
   "language": "python",
   "name": "python37464bitbaseconda02803511e82243628460d84236bfc9e6"
  },
  "language_info": {
   "codemirror_mode": {
    "name": "ipython",
    "version": 3
   },
   "file_extension": ".py",
   "mimetype": "text/x-python",
   "name": "python",
   "nbconvert_exporter": "python",
   "pygments_lexer": "ipython3",
   "version": "3.7.6"
  },
  "toc": {
   "base_numbering": 1,
   "nav_menu": {},
   "number_sections": true,
   "sideBar": true,
   "skip_h1_title": false,
   "title_cell": "Table of Contents",
   "title_sidebar": "Contents",
   "toc_cell": false,
   "toc_position": {},
   "toc_section_display": true,
   "toc_window_display": false
  }
 },
 "nbformat": 4,
 "nbformat_minor": 4
}
