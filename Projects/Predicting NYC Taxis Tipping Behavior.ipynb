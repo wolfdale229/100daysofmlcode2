{
 "cells": [
  {
   "cell_type": "markdown",
   "metadata": {},
   "source": [
    "# Predicting NYC Taxis Tipping Behavior\n",
    "\n",
    "## Aim :\n",
    "Using Machine Learning to predicting the tipping behaviors of New-York City taxis.\n",
    "\n",
    "## Data :\n",
    "The data consist of two csv files gotten from [Mark Kromer Github's](https://github.com/kromerm/adfdataflowdocs/blob/master/sampledata) account.\n",
    "\n",
    "- trip_fare_1.csv\n",
    "- trip_data_1.csv"
   ]
  },
  {
   "cell_type": "markdown",
   "metadata": {
    "heading_collapsed": true
   },
   "source": [
    "## Imports"
   ]
  },
  {
   "cell_type": "code",
   "execution_count": 1,
   "metadata": {
    "hidden": true
   },
   "outputs": [],
   "source": [
    "%reload_ext autoreload\n",
    "%autoreload 2\n",
    "%matplotlib inline"
   ]
  },
  {
   "cell_type": "code",
   "execution_count": 57,
   "metadata": {
    "hidden": true
   },
   "outputs": [],
   "source": [
    "import numpy as np\n",
    "import pandas as pd\n",
    "import seaborn as sns\n",
    "import matplotlib.pyplot as plt\n",
    "\n",
    "from sklearn.model_selection import train_test_split, cross_val_score\n",
    "from sklearn.preprocessing import StandardScaler\n",
    "from sklearn.linear_model import SGDClassifier\n",
    "from sklearn.metrics import roc_curve, roc_auc_score, accuracy_score, f1_score\n",
    "from pylab import *\n",
    "\n",
    "\n",
    "\n",
    "\n",
    "sns.set_style('darkgrid')"
   ]
  },
  {
   "cell_type": "markdown",
   "metadata": {
    "heading_collapsed": true
   },
   "source": [
    "## Loading Data"
   ]
  },
  {
   "cell_type": "code",
   "execution_count": 3,
   "metadata": {
    "hidden": true
   },
   "outputs": [
    {
     "name": "stdout",
     "output_type": "stream",
     "text": [
      " bluebook-for-bulldozers   california   titanic\t\t  wine\r\n",
      " boston\t\t\t   pandas       trip_data_1.csv\r\n",
      "'breast cancer'\t\t   spam_2       trip_fare_1.csv\r\n"
     ]
    }
   ],
   "source": [
    "path = '../data'\n",
    "!ls {path}"
   ]
  },
  {
   "cell_type": "code",
   "execution_count": 4,
   "metadata": {
    "hidden": true
   },
   "outputs": [],
   "source": [
    "N = 5e6\n",
    "data = pd.read_csv(path+'/trip_data_1.csv', sep=',', nrows=N)\n",
    "fare = pd.read_csv(path+'/trip_fare_1.csv', sep=',', nrows=N)\n",
    "fare_cols = [u' payment_type', u' fare_amount', u' surcharge', u' mta_tax', \n",
    "             u' tip_amount', u' tolls_amount', u' total_amount']"
   ]
  },
  {
   "cell_type": "code",
   "execution_count": 5,
   "metadata": {
    "hidden": true,
    "scrolled": true
   },
   "outputs": [
    {
     "data": {
      "text/html": [
       "<div>\n",
       "<style scoped>\n",
       "    .dataframe tbody tr th:only-of-type {\n",
       "        vertical-align: middle;\n",
       "    }\n",
       "\n",
       "    .dataframe tbody tr th {\n",
       "        vertical-align: top;\n",
       "    }\n",
       "\n",
       "    .dataframe thead th {\n",
       "        text-align: right;\n",
       "    }\n",
       "</style>\n",
       "<table border=\"1\" class=\"dataframe\">\n",
       "  <thead>\n",
       "    <tr style=\"text-align: right;\">\n",
       "      <th></th>\n",
       "      <th>medallion</th>\n",
       "      <th>hack_license</th>\n",
       "      <th>vendor_id</th>\n",
       "      <th>rate_code</th>\n",
       "      <th>store_and_fwd_flag</th>\n",
       "      <th>pickup_datetime</th>\n",
       "      <th>dropoff_datetime</th>\n",
       "      <th>passenger_count</th>\n",
       "      <th>trip_time_in_secs</th>\n",
       "      <th>trip_distance</th>\n",
       "      <th>pickup_longitude</th>\n",
       "      <th>pickup_latitude</th>\n",
       "      <th>dropoff_longitude</th>\n",
       "      <th>dropoff_latitude</th>\n",
       "    </tr>\n",
       "  </thead>\n",
       "  <tbody>\n",
       "    <tr>\n",
       "      <th>0</th>\n",
       "      <td>89D227B655E5C82AECF13C3F540D4CF4</td>\n",
       "      <td>BA96DE419E711691B9445D6A6307C170</td>\n",
       "      <td>CMT</td>\n",
       "      <td>1</td>\n",
       "      <td>N</td>\n",
       "      <td>2013-01-01 15:11:48</td>\n",
       "      <td>2013-01-01 15:18:10</td>\n",
       "      <td>4</td>\n",
       "      <td>382</td>\n",
       "      <td>1.0</td>\n",
       "      <td>-73.978165</td>\n",
       "      <td>40.757977</td>\n",
       "      <td>-73.989838</td>\n",
       "      <td>40.751171</td>\n",
       "    </tr>\n",
       "    <tr>\n",
       "      <th>1</th>\n",
       "      <td>0BD7C8F5BA12B88E0B67BED28BEA73D8</td>\n",
       "      <td>9FD8F69F0804BDB5549F40E9DA1BE472</td>\n",
       "      <td>CMT</td>\n",
       "      <td>1</td>\n",
       "      <td>N</td>\n",
       "      <td>2013-01-06 00:18:35</td>\n",
       "      <td>2013-01-06 00:22:54</td>\n",
       "      <td>1</td>\n",
       "      <td>259</td>\n",
       "      <td>1.5</td>\n",
       "      <td>-74.006683</td>\n",
       "      <td>40.731781</td>\n",
       "      <td>-73.994499</td>\n",
       "      <td>40.750660</td>\n",
       "    </tr>\n",
       "    <tr>\n",
       "      <th>2</th>\n",
       "      <td>0BD7C8F5BA12B88E0B67BED28BEA73D8</td>\n",
       "      <td>9FD8F69F0804BDB5549F40E9DA1BE472</td>\n",
       "      <td>CMT</td>\n",
       "      <td>1</td>\n",
       "      <td>N</td>\n",
       "      <td>2013-01-05 18:49:41</td>\n",
       "      <td>2013-01-05 18:54:23</td>\n",
       "      <td>1</td>\n",
       "      <td>282</td>\n",
       "      <td>1.1</td>\n",
       "      <td>-74.004707</td>\n",
       "      <td>40.737770</td>\n",
       "      <td>-74.009834</td>\n",
       "      <td>40.726002</td>\n",
       "    </tr>\n",
       "    <tr>\n",
       "      <th>3</th>\n",
       "      <td>DFD2202EE08F7A8DC9A57B02ACB81FE2</td>\n",
       "      <td>51EE87E3205C985EF8431D850C786310</td>\n",
       "      <td>CMT</td>\n",
       "      <td>1</td>\n",
       "      <td>N</td>\n",
       "      <td>2013-01-07 23:54:15</td>\n",
       "      <td>2013-01-07 23:58:20</td>\n",
       "      <td>2</td>\n",
       "      <td>244</td>\n",
       "      <td>0.7</td>\n",
       "      <td>-73.974602</td>\n",
       "      <td>40.759945</td>\n",
       "      <td>-73.984734</td>\n",
       "      <td>40.759388</td>\n",
       "    </tr>\n",
       "    <tr>\n",
       "      <th>4</th>\n",
       "      <td>DFD2202EE08F7A8DC9A57B02ACB81FE2</td>\n",
       "      <td>51EE87E3205C985EF8431D850C786310</td>\n",
       "      <td>CMT</td>\n",
       "      <td>1</td>\n",
       "      <td>N</td>\n",
       "      <td>2013-01-07 23:25:03</td>\n",
       "      <td>2013-01-07 23:34:24</td>\n",
       "      <td>1</td>\n",
       "      <td>560</td>\n",
       "      <td>2.1</td>\n",
       "      <td>-73.976250</td>\n",
       "      <td>40.748528</td>\n",
       "      <td>-74.002586</td>\n",
       "      <td>40.747868</td>\n",
       "    </tr>\n",
       "  </tbody>\n",
       "</table>\n",
       "</div>"
      ],
      "text/plain": [
       "                          medallion                      hack_license  \\\n",
       "0  89D227B655E5C82AECF13C3F540D4CF4  BA96DE419E711691B9445D6A6307C170   \n",
       "1  0BD7C8F5BA12B88E0B67BED28BEA73D8  9FD8F69F0804BDB5549F40E9DA1BE472   \n",
       "2  0BD7C8F5BA12B88E0B67BED28BEA73D8  9FD8F69F0804BDB5549F40E9DA1BE472   \n",
       "3  DFD2202EE08F7A8DC9A57B02ACB81FE2  51EE87E3205C985EF8431D850C786310   \n",
       "4  DFD2202EE08F7A8DC9A57B02ACB81FE2  51EE87E3205C985EF8431D850C786310   \n",
       "\n",
       "  vendor_id  rate_code store_and_fwd_flag      pickup_datetime  \\\n",
       "0       CMT          1                  N  2013-01-01 15:11:48   \n",
       "1       CMT          1                  N  2013-01-06 00:18:35   \n",
       "2       CMT          1                  N  2013-01-05 18:49:41   \n",
       "3       CMT          1                  N  2013-01-07 23:54:15   \n",
       "4       CMT          1                  N  2013-01-07 23:25:03   \n",
       "\n",
       "      dropoff_datetime  passenger_count  trip_time_in_secs  trip_distance  \\\n",
       "0  2013-01-01 15:18:10                4                382            1.0   \n",
       "1  2013-01-06 00:22:54                1                259            1.5   \n",
       "2  2013-01-05 18:54:23                1                282            1.1   \n",
       "3  2013-01-07 23:58:20                2                244            0.7   \n",
       "4  2013-01-07 23:34:24                1                560            2.1   \n",
       "\n",
       "   pickup_longitude  pickup_latitude  dropoff_longitude  dropoff_latitude  \n",
       "0        -73.978165        40.757977         -73.989838         40.751171  \n",
       "1        -74.006683        40.731781         -73.994499         40.750660  \n",
       "2        -74.004707        40.737770         -74.009834         40.726002  \n",
       "3        -73.974602        40.759945         -73.984734         40.759388  \n",
       "4        -73.976250        40.748528         -74.002586         40.747868  "
      ]
     },
     "execution_count": 5,
     "metadata": {},
     "output_type": "execute_result"
    }
   ],
   "source": [
    "data.head()"
   ]
  },
  {
   "cell_type": "code",
   "execution_count": 6,
   "metadata": {
    "hidden": true
   },
   "outputs": [
    {
     "data": {
      "text/html": [
       "<div>\n",
       "<style scoped>\n",
       "    .dataframe tbody tr th:only-of-type {\n",
       "        vertical-align: middle;\n",
       "    }\n",
       "\n",
       "    .dataframe tbody tr th {\n",
       "        vertical-align: top;\n",
       "    }\n",
       "\n",
       "    .dataframe thead th {\n",
       "        text-align: right;\n",
       "    }\n",
       "</style>\n",
       "<table border=\"1\" class=\"dataframe\">\n",
       "  <thead>\n",
       "    <tr style=\"text-align: right;\">\n",
       "      <th></th>\n",
       "      <th>medallion</th>\n",
       "      <th>hack_license</th>\n",
       "      <th>vendor_id</th>\n",
       "      <th>pickup_datetime</th>\n",
       "      <th>payment_type</th>\n",
       "      <th>fare_amount</th>\n",
       "      <th>surcharge</th>\n",
       "      <th>mta_tax</th>\n",
       "      <th>tip_amount</th>\n",
       "      <th>tolls_amount</th>\n",
       "      <th>total_amount</th>\n",
       "    </tr>\n",
       "  </thead>\n",
       "  <tbody>\n",
       "    <tr>\n",
       "      <th>0</th>\n",
       "      <td>89D227B655E5C82AECF13C3F540D4CF4</td>\n",
       "      <td>BA96DE419E711691B9445D6A6307C170</td>\n",
       "      <td>CMT</td>\n",
       "      <td>2013-01-01 15:11:48</td>\n",
       "      <td>CSH</td>\n",
       "      <td>6.5</td>\n",
       "      <td>0.0</td>\n",
       "      <td>0.5</td>\n",
       "      <td>0.0</td>\n",
       "      <td>0.0</td>\n",
       "      <td>7.0</td>\n",
       "    </tr>\n",
       "    <tr>\n",
       "      <th>1</th>\n",
       "      <td>0BD7C8F5BA12B88E0B67BED28BEA73D8</td>\n",
       "      <td>9FD8F69F0804BDB5549F40E9DA1BE472</td>\n",
       "      <td>CMT</td>\n",
       "      <td>2013-01-06 00:18:35</td>\n",
       "      <td>CSH</td>\n",
       "      <td>6.0</td>\n",
       "      <td>0.5</td>\n",
       "      <td>0.5</td>\n",
       "      <td>0.0</td>\n",
       "      <td>0.0</td>\n",
       "      <td>7.0</td>\n",
       "    </tr>\n",
       "    <tr>\n",
       "      <th>2</th>\n",
       "      <td>0BD7C8F5BA12B88E0B67BED28BEA73D8</td>\n",
       "      <td>9FD8F69F0804BDB5549F40E9DA1BE472</td>\n",
       "      <td>CMT</td>\n",
       "      <td>2013-01-05 18:49:41</td>\n",
       "      <td>CSH</td>\n",
       "      <td>5.5</td>\n",
       "      <td>1.0</td>\n",
       "      <td>0.5</td>\n",
       "      <td>0.0</td>\n",
       "      <td>0.0</td>\n",
       "      <td>7.0</td>\n",
       "    </tr>\n",
       "    <tr>\n",
       "      <th>3</th>\n",
       "      <td>DFD2202EE08F7A8DC9A57B02ACB81FE2</td>\n",
       "      <td>51EE87E3205C985EF8431D850C786310</td>\n",
       "      <td>CMT</td>\n",
       "      <td>2013-01-07 23:54:15</td>\n",
       "      <td>CSH</td>\n",
       "      <td>5.0</td>\n",
       "      <td>0.5</td>\n",
       "      <td>0.5</td>\n",
       "      <td>0.0</td>\n",
       "      <td>0.0</td>\n",
       "      <td>6.0</td>\n",
       "    </tr>\n",
       "    <tr>\n",
       "      <th>4</th>\n",
       "      <td>DFD2202EE08F7A8DC9A57B02ACB81FE2</td>\n",
       "      <td>51EE87E3205C985EF8431D850C786310</td>\n",
       "      <td>CMT</td>\n",
       "      <td>2013-01-07 23:25:03</td>\n",
       "      <td>CSH</td>\n",
       "      <td>9.5</td>\n",
       "      <td>0.5</td>\n",
       "      <td>0.5</td>\n",
       "      <td>0.0</td>\n",
       "      <td>0.0</td>\n",
       "      <td>10.5</td>\n",
       "    </tr>\n",
       "  </tbody>\n",
       "</table>\n",
       "</div>"
      ],
      "text/plain": [
       "                          medallion                      hack_license  \\\n",
       "0  89D227B655E5C82AECF13C3F540D4CF4  BA96DE419E711691B9445D6A6307C170   \n",
       "1  0BD7C8F5BA12B88E0B67BED28BEA73D8  9FD8F69F0804BDB5549F40E9DA1BE472   \n",
       "2  0BD7C8F5BA12B88E0B67BED28BEA73D8  9FD8F69F0804BDB5549F40E9DA1BE472   \n",
       "3  DFD2202EE08F7A8DC9A57B02ACB81FE2  51EE87E3205C985EF8431D850C786310   \n",
       "4  DFD2202EE08F7A8DC9A57B02ACB81FE2  51EE87E3205C985EF8431D850C786310   \n",
       "\n",
       "   vendor_id      pickup_datetime  payment_type   fare_amount   surcharge  \\\n",
       "0        CMT  2013-01-01 15:11:48           CSH           6.5         0.0   \n",
       "1        CMT  2013-01-06 00:18:35           CSH           6.0         0.5   \n",
       "2        CMT  2013-01-05 18:49:41           CSH           5.5         1.0   \n",
       "3        CMT  2013-01-07 23:54:15           CSH           5.0         0.5   \n",
       "4        CMT  2013-01-07 23:25:03           CSH           9.5         0.5   \n",
       "\n",
       "    mta_tax   tip_amount   tolls_amount   total_amount  \n",
       "0       0.5          0.0            0.0            7.0  \n",
       "1       0.5          0.0            0.0            7.0  \n",
       "2       0.5          0.0            0.0            7.0  \n",
       "3       0.5          0.0            0.0            6.0  \n",
       "4       0.5          0.0            0.0           10.5  "
      ]
     },
     "execution_count": 6,
     "metadata": {},
     "output_type": "execute_result"
    }
   ],
   "source": [
    "fare.head()"
   ]
  },
  {
   "cell_type": "code",
   "execution_count": 7,
   "metadata": {
    "hidden": true
   },
   "outputs": [],
   "source": [
    "df = data.join(fare[fare_cols])\n",
    "df.columns = df.columns.str.strip()"
   ]
  },
  {
   "cell_type": "markdown",
   "metadata": {
    "heading_collapsed": true
   },
   "source": [
    "## Visualizing the data"
   ]
  },
  {
   "cell_type": "code",
   "execution_count": 8,
   "metadata": {
    "hidden": true
   },
   "outputs": [
    {
     "data": {
      "text/html": [
       "<div>\n",
       "<style scoped>\n",
       "    .dataframe tbody tr th:only-of-type {\n",
       "        vertical-align: middle;\n",
       "    }\n",
       "\n",
       "    .dataframe tbody tr th {\n",
       "        vertical-align: top;\n",
       "    }\n",
       "\n",
       "    .dataframe thead th {\n",
       "        text-align: right;\n",
       "    }\n",
       "</style>\n",
       "<table border=\"1\" class=\"dataframe\">\n",
       "  <thead>\n",
       "    <tr style=\"text-align: right;\">\n",
       "      <th></th>\n",
       "      <th>medallion</th>\n",
       "      <th>hack_license</th>\n",
       "      <th>vendor_id</th>\n",
       "      <th>rate_code</th>\n",
       "      <th>store_and_fwd_flag</th>\n",
       "      <th>pickup_datetime</th>\n",
       "      <th>dropoff_datetime</th>\n",
       "      <th>passenger_count</th>\n",
       "      <th>trip_time_in_secs</th>\n",
       "      <th>trip_distance</th>\n",
       "      <th>...</th>\n",
       "      <th>pickup_latitude</th>\n",
       "      <th>dropoff_longitude</th>\n",
       "      <th>dropoff_latitude</th>\n",
       "      <th>payment_type</th>\n",
       "      <th>fare_amount</th>\n",
       "      <th>surcharge</th>\n",
       "      <th>mta_tax</th>\n",
       "      <th>tip_amount</th>\n",
       "      <th>tolls_amount</th>\n",
       "      <th>total_amount</th>\n",
       "    </tr>\n",
       "  </thead>\n",
       "  <tbody>\n",
       "    <tr>\n",
       "      <th>0</th>\n",
       "      <td>89D227B655E5C82AECF13C3F540D4CF4</td>\n",
       "      <td>BA96DE419E711691B9445D6A6307C170</td>\n",
       "      <td>CMT</td>\n",
       "      <td>1</td>\n",
       "      <td>N</td>\n",
       "      <td>2013-01-01 15:11:48</td>\n",
       "      <td>2013-01-01 15:18:10</td>\n",
       "      <td>4</td>\n",
       "      <td>382</td>\n",
       "      <td>1.0</td>\n",
       "      <td>...</td>\n",
       "      <td>40.757977</td>\n",
       "      <td>-73.989838</td>\n",
       "      <td>40.751171</td>\n",
       "      <td>CSH</td>\n",
       "      <td>6.5</td>\n",
       "      <td>0.0</td>\n",
       "      <td>0.5</td>\n",
       "      <td>0.0</td>\n",
       "      <td>0.0</td>\n",
       "      <td>7.0</td>\n",
       "    </tr>\n",
       "    <tr>\n",
       "      <th>1</th>\n",
       "      <td>0BD7C8F5BA12B88E0B67BED28BEA73D8</td>\n",
       "      <td>9FD8F69F0804BDB5549F40E9DA1BE472</td>\n",
       "      <td>CMT</td>\n",
       "      <td>1</td>\n",
       "      <td>N</td>\n",
       "      <td>2013-01-06 00:18:35</td>\n",
       "      <td>2013-01-06 00:22:54</td>\n",
       "      <td>1</td>\n",
       "      <td>259</td>\n",
       "      <td>1.5</td>\n",
       "      <td>...</td>\n",
       "      <td>40.731781</td>\n",
       "      <td>-73.994499</td>\n",
       "      <td>40.750660</td>\n",
       "      <td>CSH</td>\n",
       "      <td>6.0</td>\n",
       "      <td>0.5</td>\n",
       "      <td>0.5</td>\n",
       "      <td>0.0</td>\n",
       "      <td>0.0</td>\n",
       "      <td>7.0</td>\n",
       "    </tr>\n",
       "    <tr>\n",
       "      <th>2</th>\n",
       "      <td>0BD7C8F5BA12B88E0B67BED28BEA73D8</td>\n",
       "      <td>9FD8F69F0804BDB5549F40E9DA1BE472</td>\n",
       "      <td>CMT</td>\n",
       "      <td>1</td>\n",
       "      <td>N</td>\n",
       "      <td>2013-01-05 18:49:41</td>\n",
       "      <td>2013-01-05 18:54:23</td>\n",
       "      <td>1</td>\n",
       "      <td>282</td>\n",
       "      <td>1.1</td>\n",
       "      <td>...</td>\n",
       "      <td>40.737770</td>\n",
       "      <td>-74.009834</td>\n",
       "      <td>40.726002</td>\n",
       "      <td>CSH</td>\n",
       "      <td>5.5</td>\n",
       "      <td>1.0</td>\n",
       "      <td>0.5</td>\n",
       "      <td>0.0</td>\n",
       "      <td>0.0</td>\n",
       "      <td>7.0</td>\n",
       "    </tr>\n",
       "    <tr>\n",
       "      <th>3</th>\n",
       "      <td>DFD2202EE08F7A8DC9A57B02ACB81FE2</td>\n",
       "      <td>51EE87E3205C985EF8431D850C786310</td>\n",
       "      <td>CMT</td>\n",
       "      <td>1</td>\n",
       "      <td>N</td>\n",
       "      <td>2013-01-07 23:54:15</td>\n",
       "      <td>2013-01-07 23:58:20</td>\n",
       "      <td>2</td>\n",
       "      <td>244</td>\n",
       "      <td>0.7</td>\n",
       "      <td>...</td>\n",
       "      <td>40.759945</td>\n",
       "      <td>-73.984734</td>\n",
       "      <td>40.759388</td>\n",
       "      <td>CSH</td>\n",
       "      <td>5.0</td>\n",
       "      <td>0.5</td>\n",
       "      <td>0.5</td>\n",
       "      <td>0.0</td>\n",
       "      <td>0.0</td>\n",
       "      <td>6.0</td>\n",
       "    </tr>\n",
       "    <tr>\n",
       "      <th>4</th>\n",
       "      <td>DFD2202EE08F7A8DC9A57B02ACB81FE2</td>\n",
       "      <td>51EE87E3205C985EF8431D850C786310</td>\n",
       "      <td>CMT</td>\n",
       "      <td>1</td>\n",
       "      <td>N</td>\n",
       "      <td>2013-01-07 23:25:03</td>\n",
       "      <td>2013-01-07 23:34:24</td>\n",
       "      <td>1</td>\n",
       "      <td>560</td>\n",
       "      <td>2.1</td>\n",
       "      <td>...</td>\n",
       "      <td>40.748528</td>\n",
       "      <td>-74.002586</td>\n",
       "      <td>40.747868</td>\n",
       "      <td>CSH</td>\n",
       "      <td>9.5</td>\n",
       "      <td>0.5</td>\n",
       "      <td>0.5</td>\n",
       "      <td>0.0</td>\n",
       "      <td>0.0</td>\n",
       "      <td>10.5</td>\n",
       "    </tr>\n",
       "  </tbody>\n",
       "</table>\n",
       "<p>5 rows × 21 columns</p>\n",
       "</div>"
      ],
      "text/plain": [
       "                          medallion                      hack_license  \\\n",
       "0  89D227B655E5C82AECF13C3F540D4CF4  BA96DE419E711691B9445D6A6307C170   \n",
       "1  0BD7C8F5BA12B88E0B67BED28BEA73D8  9FD8F69F0804BDB5549F40E9DA1BE472   \n",
       "2  0BD7C8F5BA12B88E0B67BED28BEA73D8  9FD8F69F0804BDB5549F40E9DA1BE472   \n",
       "3  DFD2202EE08F7A8DC9A57B02ACB81FE2  51EE87E3205C985EF8431D850C786310   \n",
       "4  DFD2202EE08F7A8DC9A57B02ACB81FE2  51EE87E3205C985EF8431D850C786310   \n",
       "\n",
       "  vendor_id  rate_code store_and_fwd_flag      pickup_datetime  \\\n",
       "0       CMT          1                  N  2013-01-01 15:11:48   \n",
       "1       CMT          1                  N  2013-01-06 00:18:35   \n",
       "2       CMT          1                  N  2013-01-05 18:49:41   \n",
       "3       CMT          1                  N  2013-01-07 23:54:15   \n",
       "4       CMT          1                  N  2013-01-07 23:25:03   \n",
       "\n",
       "      dropoff_datetime  passenger_count  trip_time_in_secs  trip_distance  \\\n",
       "0  2013-01-01 15:18:10                4                382            1.0   \n",
       "1  2013-01-06 00:22:54                1                259            1.5   \n",
       "2  2013-01-05 18:54:23                1                282            1.1   \n",
       "3  2013-01-07 23:58:20                2                244            0.7   \n",
       "4  2013-01-07 23:34:24                1                560            2.1   \n",
       "\n",
       "   ...  pickup_latitude  dropoff_longitude  dropoff_latitude  payment_type  \\\n",
       "0  ...        40.757977         -73.989838         40.751171           CSH   \n",
       "1  ...        40.731781         -73.994499         40.750660           CSH   \n",
       "2  ...        40.737770         -74.009834         40.726002           CSH   \n",
       "3  ...        40.759945         -73.984734         40.759388           CSH   \n",
       "4  ...        40.748528         -74.002586         40.747868           CSH   \n",
       "\n",
       "  fare_amount  surcharge  mta_tax  tip_amount  tolls_amount  total_amount  \n",
       "0         6.5        0.0      0.5         0.0           0.0           7.0  \n",
       "1         6.0        0.5      0.5         0.0           0.0           7.0  \n",
       "2         5.5        1.0      0.5         0.0           0.0           7.0  \n",
       "3         5.0        0.5      0.5         0.0           0.0           6.0  \n",
       "4         9.5        0.5      0.5         0.0           0.0          10.5  \n",
       "\n",
       "[5 rows x 21 columns]"
      ]
     },
     "execution_count": 8,
     "metadata": {},
     "output_type": "execute_result"
    }
   ],
   "source": [
    "df.head()"
   ]
  },
  {
   "cell_type": "code",
   "execution_count": 9,
   "metadata": {
    "hidden": true
   },
   "outputs": [
    {
     "name": "stdout",
     "output_type": "stream",
     "text": [
      "<class 'pandas.core.frame.DataFrame'>\n",
      "RangeIndex: 49999 entries, 0 to 49998\n",
      "Data columns (total 21 columns):\n",
      " #   Column              Non-Null Count  Dtype  \n",
      "---  ------              --------------  -----  \n",
      " 0   medallion           49999 non-null  object \n",
      " 1   hack_license        49999 non-null  object \n",
      " 2   vendor_id           49999 non-null  object \n",
      " 3   rate_code           49999 non-null  int64  \n",
      " 4   store_and_fwd_flag  234 non-null    object \n",
      " 5   pickup_datetime     49999 non-null  object \n",
      " 6   dropoff_datetime    49999 non-null  object \n",
      " 7   passenger_count     49999 non-null  int64  \n",
      " 8   trip_time_in_secs   49999 non-null  int64  \n",
      " 9   trip_distance       49999 non-null  float64\n",
      " 10  pickup_longitude    49999 non-null  float64\n",
      " 11  pickup_latitude     49999 non-null  float64\n",
      " 12  dropoff_longitude   49999 non-null  float64\n",
      " 13  dropoff_latitude    49999 non-null  float64\n",
      " 14  payment_type        49999 non-null  object \n",
      " 15  fare_amount         49999 non-null  float64\n",
      " 16  surcharge           49999 non-null  float64\n",
      " 17  mta_tax             49999 non-null  float64\n",
      " 18  tip_amount          49999 non-null  float64\n",
      " 19  tolls_amount        49999 non-null  float64\n",
      " 20  total_amount        49999 non-null  float64\n",
      "dtypes: float64(11), int64(3), object(7)\n",
      "memory usage: 8.0+ MB\n"
     ]
    }
   ],
   "source": [
    "df.info()"
   ]
  },
  {
   "cell_type": "code",
   "execution_count": 10,
   "metadata": {
    "hidden": true
   },
   "outputs": [
    {
     "data": {
      "image/png": "[encoded data removed]",
      "text/plain": [
       "<Figure size 432x288 with 1 Axes>"
      ]
     },
     "metadata": {},
     "output_type": "display_data"
    }
   ],
   "source": [
    "df['vendor_id'].value_counts().plot.bar()\n",
    "plt.show()"
   ]
  },
  {
   "cell_type": "code",
   "execution_count": 11,
   "metadata": {
    "hidden": true
   },
   "outputs": [
    {
     "data": {
      "text/plain": [
       "VTS    49765\n",
       "CMT      234\n",
       "Name: vendor_id, dtype: int64"
      ]
     },
     "execution_count": 11,
     "metadata": {},
     "output_type": "execute_result"
    }
   ],
   "source": [
    "df['vendor_id'].value_counts()"
   ]
  },
  {
   "cell_type": "code",
   "execution_count": 12,
   "metadata": {
    "hidden": true
   },
   "outputs": [
    {
     "data": {
      "image/png": "[encoded data removed]",
      "text/plain": [
       "<Figure size 432x288 with 1 Axes>"
      ]
     },
     "metadata": {},
     "output_type": "display_data"
    }
   ],
   "source": [
    "df['rate_code'].value_counts().plot.bar()\n",
    "plt.show()"
   ]
  },
  {
   "cell_type": "code",
   "execution_count": 13,
   "metadata": {
    "hidden": true
   },
   "outputs": [
    {
     "data": {
      "text/plain": [
       "1    48740\n",
       "2      984\n",
       "5      125\n",
       "4       76\n",
       "3       74\n",
       "Name: rate_code, dtype: int64"
      ]
     },
     "execution_count": 13,
     "metadata": {},
     "output_type": "execute_result"
    }
   ],
   "source": [
    "df['rate_code'].value_counts()"
   ]
  },
  {
   "cell_type": "code",
   "execution_count": 14,
   "metadata": {
    "hidden": true
   },
   "outputs": [
    {
     "data": {
      "image/png": "[encoded data removed]",
      "text/plain": [
       "<Figure size 432x288 with 1 Axes>"
      ]
     },
     "metadata": {},
     "output_type": "display_data"
    }
   ],
   "source": [
    "df['payment_type'].value_counts().plot.bar()\n",
    "plt.show()"
   ]
  },
  {
   "cell_type": "code",
   "execution_count": 15,
   "metadata": {
    "hidden": true
   },
   "outputs": [
    {
     "data": {
      "text/plain": [
       "CRD    25258\n",
       "CSH    24722\n",
       "UNK       16\n",
       "DIS        2\n",
       "NOC        1\n",
       "Name: payment_type, dtype: int64"
      ]
     },
     "execution_count": 15,
     "metadata": {},
     "output_type": "execute_result"
    }
   ],
   "source": [
    "df['payment_type'].value_counts()"
   ]
  },
  {
   "cell_type": "code",
   "execution_count": 16,
   "metadata": {
    "hidden": true
   },
   "outputs": [
    {
     "data": {
      "image/png": "[encoded data removed]",
      "text/plain": [
       "<Figure size 432x288 with 1 Axes>"
      ]
     },
     "metadata": {},
     "output_type": "display_data"
    }
   ],
   "source": [
    "plt.scatter(df['trip_time_in_secs'], df['trip_distance'], alpha=0.4)\n",
    "plt.show()"
   ]
  },
  {
   "cell_type": "code",
   "execution_count": 18,
   "metadata": {
    "hidden": true
   },
   "outputs": [
    {
     "data": {
      "image/png": "[encoded data removed]",
      "text/plain": [
       "<Figure size 432x288 with 1 Axes>"
      ]
     },
     "metadata": {},
     "output_type": "display_data"
    }
   ],
   "source": [
    "plt.scatter(df['trip_time_in_secs'], df['total_amount'], alpha=0.4)\n",
    "plt.show()"
   ]
  },
  {
   "cell_type": "markdown",
   "metadata": {
    "heading_collapsed": true
   },
   "source": [
    "## Defining the problem and preparing the data"
   ]
  },
  {
   "cell_type": "code",
   "execution_count": 19,
   "metadata": {
    "hidden": true
   },
   "outputs": [
    {
     "data": {
      "image/png": "[encoded data removed]",
      "text/plain": [
       "<Figure size 576x468 with 1 Axes>"
      ]
     },
     "metadata": {},
     "output_type": "display_data"
    }
   ],
   "source": [
    "df['tip_amount'].hist(bins=100, figsize=(8, 6.5))\n",
    "plt.xlim((0, 16))\n",
    "plt.show()"
   ]
  },
  {
   "cell_type": "code",
   "execution_count": 20,
   "metadata": {
    "hidden": true
   },
   "outputs": [],
   "source": [
    "def tipped_mapping(x:int)->int:\n",
    "    \"\"\" Returns the either 0 or 1 depending on the tipp amount, 0 for tips equal to 0\n",
    "    \n",
    "    >>> tipped_mapping(2)\n",
    "    1\n",
    "    >>> tipped_mapping(0)\n",
    "    0\n",
    "    \"\"\"\n",
    "    if x > 0:\n",
    "        return 1\n",
    "    else :\n",
    "        return 0\n",
    "    \n",
    "df['tipped'] = df['tip_amount'].map(lambda x : tipped_mapping(x))"
   ]
  },
  {
   "cell_type": "code",
   "execution_count": 21,
   "metadata": {
    "hidden": true
   },
   "outputs": [
    {
     "data": {
      "text/html": [
       "<div>\n",
       "<style scoped>\n",
       "    .dataframe tbody tr th:only-of-type {\n",
       "        vertical-align: middle;\n",
       "    }\n",
       "\n",
       "    .dataframe tbody tr th {\n",
       "        vertical-align: top;\n",
       "    }\n",
       "\n",
       "    .dataframe thead th {\n",
       "        text-align: right;\n",
       "    }\n",
       "</style>\n",
       "<table border=\"1\" class=\"dataframe\">\n",
       "  <thead>\n",
       "    <tr style=\"text-align: right;\">\n",
       "      <th></th>\n",
       "      <th>medallion</th>\n",
       "      <th>hack_license</th>\n",
       "      <th>vendor_id</th>\n",
       "      <th>rate_code</th>\n",
       "      <th>store_and_fwd_flag</th>\n",
       "      <th>pickup_datetime</th>\n",
       "      <th>dropoff_datetime</th>\n",
       "      <th>passenger_count</th>\n",
       "      <th>trip_time_in_secs</th>\n",
       "      <th>trip_distance</th>\n",
       "      <th>...</th>\n",
       "      <th>dropoff_longitude</th>\n",
       "      <th>dropoff_latitude</th>\n",
       "      <th>payment_type</th>\n",
       "      <th>fare_amount</th>\n",
       "      <th>surcharge</th>\n",
       "      <th>mta_tax</th>\n",
       "      <th>tip_amount</th>\n",
       "      <th>tolls_amount</th>\n",
       "      <th>total_amount</th>\n",
       "      <th>tipped</th>\n",
       "    </tr>\n",
       "  </thead>\n",
       "  <tbody>\n",
       "    <tr>\n",
       "      <th>0</th>\n",
       "      <td>89D227B655E5C82AECF13C3F540D4CF4</td>\n",
       "      <td>BA96DE419E711691B9445D6A6307C170</td>\n",
       "      <td>CMT</td>\n",
       "      <td>1</td>\n",
       "      <td>N</td>\n",
       "      <td>2013-01-01 15:11:48</td>\n",
       "      <td>2013-01-01 15:18:10</td>\n",
       "      <td>4</td>\n",
       "      <td>382</td>\n",
       "      <td>1.00</td>\n",
       "      <td>...</td>\n",
       "      <td>-73.989838</td>\n",
       "      <td>40.751171</td>\n",
       "      <td>CSH</td>\n",
       "      <td>6.5</td>\n",
       "      <td>0.0</td>\n",
       "      <td>0.5</td>\n",
       "      <td>0.0</td>\n",
       "      <td>0.0</td>\n",
       "      <td>7.0</td>\n",
       "      <td>0</td>\n",
       "    </tr>\n",
       "    <tr>\n",
       "      <th>1</th>\n",
       "      <td>0BD7C8F5BA12B88E0B67BED28BEA73D8</td>\n",
       "      <td>9FD8F69F0804BDB5549F40E9DA1BE472</td>\n",
       "      <td>CMT</td>\n",
       "      <td>1</td>\n",
       "      <td>N</td>\n",
       "      <td>2013-01-06 00:18:35</td>\n",
       "      <td>2013-01-06 00:22:54</td>\n",
       "      <td>1</td>\n",
       "      <td>259</td>\n",
       "      <td>1.50</td>\n",
       "      <td>...</td>\n",
       "      <td>-73.994499</td>\n",
       "      <td>40.750660</td>\n",
       "      <td>CSH</td>\n",
       "      <td>6.0</td>\n",
       "      <td>0.5</td>\n",
       "      <td>0.5</td>\n",
       "      <td>0.0</td>\n",
       "      <td>0.0</td>\n",
       "      <td>7.0</td>\n",
       "      <td>0</td>\n",
       "    </tr>\n",
       "    <tr>\n",
       "      <th>2</th>\n",
       "      <td>0BD7C8F5BA12B88E0B67BED28BEA73D8</td>\n",
       "      <td>9FD8F69F0804BDB5549F40E9DA1BE472</td>\n",
       "      <td>CMT</td>\n",
       "      <td>1</td>\n",
       "      <td>N</td>\n",
       "      <td>2013-01-05 18:49:41</td>\n",
       "      <td>2013-01-05 18:54:23</td>\n",
       "      <td>1</td>\n",
       "      <td>282</td>\n",
       "      <td>1.10</td>\n",
       "      <td>...</td>\n",
       "      <td>-74.009834</td>\n",
       "      <td>40.726002</td>\n",
       "      <td>CSH</td>\n",
       "      <td>5.5</td>\n",
       "      <td>1.0</td>\n",
       "      <td>0.5</td>\n",
       "      <td>0.0</td>\n",
       "      <td>0.0</td>\n",
       "      <td>7.0</td>\n",
       "      <td>0</td>\n",
       "    </tr>\n",
       "    <tr>\n",
       "      <th>3</th>\n",
       "      <td>DFD2202EE08F7A8DC9A57B02ACB81FE2</td>\n",
       "      <td>51EE87E3205C985EF8431D850C786310</td>\n",
       "      <td>CMT</td>\n",
       "      <td>1</td>\n",
       "      <td>N</td>\n",
       "      <td>2013-01-07 23:54:15</td>\n",
       "      <td>2013-01-07 23:58:20</td>\n",
       "      <td>2</td>\n",
       "      <td>244</td>\n",
       "      <td>0.70</td>\n",
       "      <td>...</td>\n",
       "      <td>-73.984734</td>\n",
       "      <td>40.759388</td>\n",
       "      <td>CSH</td>\n",
       "      <td>5.0</td>\n",
       "      <td>0.5</td>\n",
       "      <td>0.5</td>\n",
       "      <td>0.0</td>\n",
       "      <td>0.0</td>\n",
       "      <td>6.0</td>\n",
       "      <td>0</td>\n",
       "    </tr>\n",
       "    <tr>\n",
       "      <th>4</th>\n",
       "      <td>DFD2202EE08F7A8DC9A57B02ACB81FE2</td>\n",
       "      <td>51EE87E3205C985EF8431D850C786310</td>\n",
       "      <td>CMT</td>\n",
       "      <td>1</td>\n",
       "      <td>N</td>\n",
       "      <td>2013-01-07 23:25:03</td>\n",
       "      <td>2013-01-07 23:34:24</td>\n",
       "      <td>1</td>\n",
       "      <td>560</td>\n",
       "      <td>2.10</td>\n",
       "      <td>...</td>\n",
       "      <td>-74.002586</td>\n",
       "      <td>40.747868</td>\n",
       "      <td>CSH</td>\n",
       "      <td>9.5</td>\n",
       "      <td>0.5</td>\n",
       "      <td>0.5</td>\n",
       "      <td>0.0</td>\n",
       "      <td>0.0</td>\n",
       "      <td>10.5</td>\n",
       "      <td>0</td>\n",
       "    </tr>\n",
       "    <tr>\n",
       "      <th>...</th>\n",
       "      <td>...</td>\n",
       "      <td>...</td>\n",
       "      <td>...</td>\n",
       "      <td>...</td>\n",
       "      <td>...</td>\n",
       "      <td>...</td>\n",
       "      <td>...</td>\n",
       "      <td>...</td>\n",
       "      <td>...</td>\n",
       "      <td>...</td>\n",
       "      <td>...</td>\n",
       "      <td>...</td>\n",
       "      <td>...</td>\n",
       "      <td>...</td>\n",
       "      <td>...</td>\n",
       "      <td>...</td>\n",
       "      <td>...</td>\n",
       "      <td>...</td>\n",
       "      <td>...</td>\n",
       "      <td>...</td>\n",
       "      <td>...</td>\n",
       "    </tr>\n",
       "    <tr>\n",
       "      <th>49994</th>\n",
       "      <td>9026F6306A546DF55217CF854D7BD12D</td>\n",
       "      <td>660043AE9457CE04A3778E1B6BBFBFA7</td>\n",
       "      <td>VTS</td>\n",
       "      <td>1</td>\n",
       "      <td>NaN</td>\n",
       "      <td>2013-01-13 14:42:00</td>\n",
       "      <td>2013-01-13 15:00:00</td>\n",
       "      <td>1</td>\n",
       "      <td>1080</td>\n",
       "      <td>9.03</td>\n",
       "      <td>...</td>\n",
       "      <td>-73.870964</td>\n",
       "      <td>40.774078</td>\n",
       "      <td>CRD</td>\n",
       "      <td>26.5</td>\n",
       "      <td>0.0</td>\n",
       "      <td>0.5</td>\n",
       "      <td>5.3</td>\n",
       "      <td>4.8</td>\n",
       "      <td>37.1</td>\n",
       "      <td>1</td>\n",
       "    </tr>\n",
       "    <tr>\n",
       "      <th>49995</th>\n",
       "      <td>39C5EDFE45D18B3FBFB9C8A65B320F90</td>\n",
       "      <td>96A675C73D91A0B5F9ECFB03F6272663</td>\n",
       "      <td>VTS</td>\n",
       "      <td>1</td>\n",
       "      <td>NaN</td>\n",
       "      <td>2013-01-13 13:34:00</td>\n",
       "      <td>2013-01-13 13:50:00</td>\n",
       "      <td>1</td>\n",
       "      <td>960</td>\n",
       "      <td>3.38</td>\n",
       "      <td>...</td>\n",
       "      <td>-73.944832</td>\n",
       "      <td>40.783344</td>\n",
       "      <td>CRD</td>\n",
       "      <td>14.5</td>\n",
       "      <td>0.0</td>\n",
       "      <td>0.5</td>\n",
       "      <td>1.0</td>\n",
       "      <td>0.0</td>\n",
       "      <td>16.0</td>\n",
       "      <td>1</td>\n",
       "    </tr>\n",
       "    <tr>\n",
       "      <th>49996</th>\n",
       "      <td>1E65B587835F860087C91479FAFD7118</td>\n",
       "      <td>FAF24F3447E3D7EDBAB2F4F01BFEF76E</td>\n",
       "      <td>VTS</td>\n",
       "      <td>1</td>\n",
       "      <td>NaN</td>\n",
       "      <td>2013-01-13 13:46:00</td>\n",
       "      <td>2013-01-13 13:49:00</td>\n",
       "      <td>2</td>\n",
       "      <td>180</td>\n",
       "      <td>0.79</td>\n",
       "      <td>...</td>\n",
       "      <td>-73.991966</td>\n",
       "      <td>40.741528</td>\n",
       "      <td>CSH</td>\n",
       "      <td>4.5</td>\n",
       "      <td>0.0</td>\n",
       "      <td>0.5</td>\n",
       "      <td>0.0</td>\n",
       "      <td>0.0</td>\n",
       "      <td>5.0</td>\n",
       "      <td>0</td>\n",
       "    </tr>\n",
       "    <tr>\n",
       "      <th>49997</th>\n",
       "      <td>39F614477C0F60F6184A733BD20E7CB2</td>\n",
       "      <td>92046E4DE64475F31D68A0B1FEF71A99</td>\n",
       "      <td>VTS</td>\n",
       "      <td>1</td>\n",
       "      <td>NaN</td>\n",
       "      <td>2013-01-13 13:45:00</td>\n",
       "      <td>2013-01-13 13:52:00</td>\n",
       "      <td>5</td>\n",
       "      <td>420</td>\n",
       "      <td>0.84</td>\n",
       "      <td>...</td>\n",
       "      <td>-73.975540</td>\n",
       "      <td>40.755707</td>\n",
       "      <td>CSH</td>\n",
       "      <td>6.0</td>\n",
       "      <td>0.0</td>\n",
       "      <td>0.5</td>\n",
       "      <td>0.0</td>\n",
       "      <td>0.0</td>\n",
       "      <td>6.5</td>\n",
       "      <td>0</td>\n",
       "    </tr>\n",
       "    <tr>\n",
       "      <th>49998</th>\n",
       "      <td>D08681BDEC767CABA415583497497EDD</td>\n",
       "      <td>A12BFEC56D5FCDF171919F6F80F4F17C</td>\n",
       "      <td>VTS</td>\n",
       "      <td>1</td>\n",
       "      <td>NaN</td>\n",
       "      <td>2013-01-13 13:56:00</td>\n",
       "      <td>2013-01-13 13:58:00</td>\n",
       "      <td>5</td>\n",
       "      <td>120</td>\n",
       "      <td>0.43</td>\n",
       "      <td>...</td>\n",
       "      <td>-73.988983</td>\n",
       "      <td>40.769123</td>\n",
       "      <td>CSH</td>\n",
       "      <td>3.5</td>\n",
       "      <td>0.0</td>\n",
       "      <td>0.5</td>\n",
       "      <td>0.0</td>\n",
       "      <td>0.0</td>\n",
       "      <td>4.0</td>\n",
       "      <td>0</td>\n",
       "    </tr>\n",
       "  </tbody>\n",
       "</table>\n",
       "<p>49999 rows × 22 columns</p>\n",
       "</div>"
      ],
      "text/plain": [
       "                              medallion                      hack_license  \\\n",
       "0      89D227B655E5C82AECF13C3F540D4CF4  BA96DE419E711691B9445D6A6307C170   \n",
       "1      0BD7C8F5BA12B88E0B67BED28BEA73D8  9FD8F69F0804BDB5549F40E9DA1BE472   \n",
       "2      0BD7C8F5BA12B88E0B67BED28BEA73D8  9FD8F69F0804BDB5549F40E9DA1BE472   \n",
       "3      DFD2202EE08F7A8DC9A57B02ACB81FE2  51EE87E3205C985EF8431D850C786310   \n",
       "4      DFD2202EE08F7A8DC9A57B02ACB81FE2  51EE87E3205C985EF8431D850C786310   \n",
       "...                                 ...                               ...   \n",
       "49994  9026F6306A546DF55217CF854D7BD12D  660043AE9457CE04A3778E1B6BBFBFA7   \n",
       "49995  39C5EDFE45D18B3FBFB9C8A65B320F90  96A675C73D91A0B5F9ECFB03F6272663   \n",
       "49996  1E65B587835F860087C91479FAFD7118  FAF24F3447E3D7EDBAB2F4F01BFEF76E   \n",
       "49997  39F614477C0F60F6184A733BD20E7CB2  92046E4DE64475F31D68A0B1FEF71A99   \n",
       "49998  D08681BDEC767CABA415583497497EDD  A12BFEC56D5FCDF171919F6F80F4F17C   \n",
       "\n",
       "      vendor_id  rate_code store_and_fwd_flag      pickup_datetime  \\\n",
       "0           CMT          1                  N  2013-01-01 15:11:48   \n",
       "1           CMT          1                  N  2013-01-06 00:18:35   \n",
       "2           CMT          1                  N  2013-01-05 18:49:41   \n",
       "3           CMT          1                  N  2013-01-07 23:54:15   \n",
       "4           CMT          1                  N  2013-01-07 23:25:03   \n",
       "...         ...        ...                ...                  ...   \n",
       "49994       VTS          1                NaN  2013-01-13 14:42:00   \n",
       "49995       VTS          1                NaN  2013-01-13 13:34:00   \n",
       "49996       VTS          1                NaN  2013-01-13 13:46:00   \n",
       "49997       VTS          1                NaN  2013-01-13 13:45:00   \n",
       "49998       VTS          1                NaN  2013-01-13 13:56:00   \n",
       "\n",
       "          dropoff_datetime  passenger_count  trip_time_in_secs  trip_distance  \\\n",
       "0      2013-01-01 15:18:10                4                382           1.00   \n",
       "1      2013-01-06 00:22:54                1                259           1.50   \n",
       "2      2013-01-05 18:54:23                1                282           1.10   \n",
       "3      2013-01-07 23:58:20                2                244           0.70   \n",
       "4      2013-01-07 23:34:24                1                560           2.10   \n",
       "...                    ...              ...                ...            ...   \n",
       "49994  2013-01-13 15:00:00                1               1080           9.03   \n",
       "49995  2013-01-13 13:50:00                1                960           3.38   \n",
       "49996  2013-01-13 13:49:00                2                180           0.79   \n",
       "49997  2013-01-13 13:52:00                5                420           0.84   \n",
       "49998  2013-01-13 13:58:00                5                120           0.43   \n",
       "\n",
       "       ...  dropoff_longitude  dropoff_latitude  payment_type  fare_amount  \\\n",
       "0      ...         -73.989838         40.751171           CSH          6.5   \n",
       "1      ...         -73.994499         40.750660           CSH          6.0   \n",
       "2      ...         -74.009834         40.726002           CSH          5.5   \n",
       "3      ...         -73.984734         40.759388           CSH          5.0   \n",
       "4      ...         -74.002586         40.747868           CSH          9.5   \n",
       "...    ...                ...               ...           ...          ...   \n",
       "49994  ...         -73.870964         40.774078           CRD         26.5   \n",
       "49995  ...         -73.944832         40.783344           CRD         14.5   \n",
       "49996  ...         -73.991966         40.741528           CSH          4.5   \n",
       "49997  ...         -73.975540         40.755707           CSH          6.0   \n",
       "49998  ...         -73.988983         40.769123           CSH          3.5   \n",
       "\n",
       "      surcharge  mta_tax  tip_amount  tolls_amount  total_amount  tipped  \n",
       "0           0.0      0.5         0.0           0.0           7.0       0  \n",
       "1           0.5      0.5         0.0           0.0           7.0       0  \n",
       "2           1.0      0.5         0.0           0.0           7.0       0  \n",
       "3           0.5      0.5         0.0           0.0           6.0       0  \n",
       "4           0.5      0.5         0.0           0.0          10.5       0  \n",
       "...         ...      ...         ...           ...           ...     ...  \n",
       "49994       0.0      0.5         5.3           4.8          37.1       1  \n",
       "49995       0.0      0.5         1.0           0.0          16.0       1  \n",
       "49996       0.0      0.5         0.0           0.0           5.0       0  \n",
       "49997       0.0      0.5         0.0           0.0           6.5       0  \n",
       "49998       0.0      0.5         0.0           0.0           4.0       0  \n",
       "\n",
       "[49999 rows x 22 columns]"
      ]
     },
     "execution_count": 21,
     "metadata": {},
     "output_type": "execute_result"
    }
   ],
   "source": [
    "df"
   ]
  },
  {
   "cell_type": "code",
   "execution_count": 22,
   "metadata": {
    "hidden": true
   },
   "outputs": [
    {
     "data": {
      "image/png": "[encoded data removed]",
      "text/plain": [
       "<Figure size 432x288 with 1 Axes>"
      ]
     },
     "metadata": {},
     "output_type": "display_data"
    }
   ],
   "source": [
    "df['tipped'].value_counts().plot.bar()\n",
    "plt.show()"
   ]
  },
  {
   "cell_type": "code",
   "execution_count": 23,
   "metadata": {
    "hidden": true
   },
   "outputs": [
    {
     "data": {
      "text/plain": [
       "['rate_code',\n",
       " 'passenger_count',\n",
       " 'trip_time_in_secs',\n",
       " 'trip_distance',\n",
       " 'pickup_longitude',\n",
       " 'pickup_latitude',\n",
       " 'dropoff_longitude',\n",
       " 'dropoff_latitude',\n",
       " 'fare_amount',\n",
       " 'surcharge',\n",
       " 'mta_tax',\n",
       " 'tip_amount',\n",
       " 'tolls_amount',\n",
       " 'total_amount',\n",
       " 'tipped']"
      ]
     },
     "execution_count": 23,
     "metadata": {},
     "output_type": "execute_result"
    }
   ],
   "source": [
    "feat1 = [column for column in df.columns if pd.api.types.is_numeric_dtype(df[column])]\n",
    "feat1"
   ]
  },
  {
   "cell_type": "code",
   "execution_count": 24,
   "metadata": {
    "hidden": true
   },
   "outputs": [],
   "source": [
    "X, y = df[feat1].drop('tipped', axis=1), df['tipped']"
   ]
  },
  {
   "cell_type": "code",
   "execution_count": 27,
   "metadata": {
    "hidden": true
   },
   "outputs": [
    {
     "data": {
      "text/plain": [
       "((49999, 14), (49999,))"
      ]
     },
     "execution_count": 27,
     "metadata": {},
     "output_type": "execute_result"
    }
   ],
   "source": [
    "X.shape, y.shape"
   ]
  },
  {
   "cell_type": "code",
   "execution_count": 46,
   "metadata": {
    "hidden": true
   },
   "outputs": [
    {
     "data": {
      "text/plain": [
       "((39999, 14), (10000, 14), (39999,))"
      ]
     },
     "execution_count": 46,
     "metadata": {},
     "output_type": "execute_result"
    }
   ],
   "source": [
    "X_train, X_test, y_train , y_test = train_test_split(X, y, test_size=0.2, random_state=42)\n",
    "X_train.shape, X_test.shape, y_train.shape"
   ]
  },
  {
   "cell_type": "markdown",
   "metadata": {},
   "source": [
    "## Baseline Model"
   ]
  },
  {
   "cell_type": "code",
   "execution_count": 51,
   "metadata": {},
   "outputs": [],
   "source": [
    "scaler = StandardScaler()\n",
    "X_train_scaled = scaler.fit_transform(X_train)\n",
    "X_test_scaled = scaler.transform(X_test)"
   ]
  },
  {
   "cell_type": "code",
   "execution_count": 55,
   "metadata": {},
   "outputs": [
    {
     "data": {
      "text/plain": [
       "0.9979"
      ]
     },
     "execution_count": 55,
     "metadata": {},
     "output_type": "execute_result"
    }
   ],
   "source": [
    "sgd_clf = SGDClassifier().fit(X_train_scaled, y_train)\n",
    "y_pred = sgd_clf.predict(X_test_scaled)\n",
    "accuracy_score(y_test, y_pred)"
   ]
  },
  {
   "cell_type": "code",
   "execution_count": 58,
   "metadata": {},
   "outputs": [
    {
     "data": {
      "text/plain": [
       "0.9940799479947995"
      ]
     },
     "execution_count": 58,
     "metadata": {},
     "output_type": "execute_result"
    }
   ],
   "source": [
    "score = cross_val_score(sgd_clf, X, y, scoring='accuracy', cv=5)\n",
    "np.mean(score)"
   ]
  },
  {
   "cell_type": "code",
   "execution_count": 60,
   "metadata": {},
   "outputs": [
    {
     "data": {
      "image/png": "[encoded data removed]",
      "text/plain": [
       "<Figure size 720x576 with 1 Axes>"
      ]
     },
     "metadata": {},
     "output_type": "display_data"
    }
   ],
   "source": [
    "fpr, tpr, threshold = roc_curve(y_test, y_pred)\n",
    "\n",
    "plt.figure(figsize=(10, 8))\n",
    "plt.plot(fpr, tpr, '--',color='salmon')\n",
    "plt.plot([0,1], [0,1])\n",
    "plt.show()"
   ]
  },
  {
   "cell_type": "code",
   "execution_count": null,
   "metadata": {},
   "outputs": [],
   "source": []
  }
 ],
 "metadata": {
  "kernelspec": {
   "display_name": "Python 3",
   "language": "python",
   "name": "python3"
  },
  "language_info": {
   "codemirror_mode": {
    "name": "ipython",
    "version": 3
   },
   "file_extension": ".py",
   "mimetype": "text/x-python",
   "name": "python",
   "nbconvert_exporter": "python",
   "pygments_lexer": "ipython3",
   "version": "3.7.6"
  },
  "toc": {
   "base_numbering": 1,
   "nav_menu": {
    "height": "139px",
    "width": "160px"
   },
   "number_sections": true,
   "sideBar": true,
   "skip_h1_title": false,
   "title_cell": "Table of Contents",
   "title_sidebar": "Contents",
   "toc_cell": false,
   "toc_position": {},
   "toc_section_display": true,
   "toc_window_display": false
  }
 },
 "nbformat": 4,
 "nbformat_minor": 4
}
